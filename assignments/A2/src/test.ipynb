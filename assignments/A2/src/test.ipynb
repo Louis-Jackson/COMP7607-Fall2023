{
 "cells": [
  {
   "cell_type": "markdown",
   "metadata": {},
   "source": [
    "# 2 Tagger"
   ]
  },
  {
   "cell_type": "markdown",
   "metadata": {},
   "source": [
    "## 2.1 LSTM Tagger"
   ]
  },
  {
   "cell_type": "markdown",
   "metadata": {},
   "source": [
    "### 1. Data Loading and Preprocessing"
   ]
  },
  {
   "cell_type": "code",
   "execution_count": null,
   "metadata": {},
   "outputs": [],
   "source": [
    "import torch\n",
    "from torch.nn.utils.rnn import pad_sequence\n",
    "\n",
    "# Function to read the data file\n",
    "def read_data(file_path):\n",
    "    with open(file_path, 'r', encoding='utf-8') as file:\n",
    "        lines = file.readlines()\n",
    "    return lines\n",
    "\n",
    "# Function to extract sentences and tags\n",
    "def extract_sentences_tags(lines):\n",
    "    sentences, tags = [], []\n",
    "    sentence, tag = [], []\n",
    "    for line in lines:\n",
    "        if line == '\\n':\n",
    "            sentences.append(sentence)\n",
    "            tags.append(tag)\n",
    "            sentence, tag = [], []\n",
    "            continue\n",
    "        splits = line.strip().split(' ')\n",
    "        sentence.append(splits[0])\n",
    "        tag.append(splits[-1])\n",
    "    return sentences, tags\n",
    "\n",
    "# Load data\n",
    "train_lines = read_data('/mnt/data/train.txt')\n",
    "valid_lines = read_data('/mnt/data/valid.txt')\n",
    "test_lines = read_data('/mnt/data/test.txt')\n",
    "\n",
    "# Extract sentences and tags\n",
    "train_sentences, train_tags = extract_sentences_tags(train_lines)\n",
    "valid_sentences, valid_tags = extract_sentences_tags(valid_lines)\n",
    "test_sentences, test_tags = extract_sentences_tags(test_lines)\n",
    "\n",
    "# Create word and tag vocabularies\n",
    "word_to_ix = {word: i for i, sentence in enumerate(train_sentences) for word in sentence}\n",
    "tag_to_ix = {tag: i for i, tag in enumerate(set(tag for tag_list in train_tags for tag in tag_list))}\n",
    "\n",
    "# Function to convert sentences and tags to indices\n",
    "def prepare_sequence(seq, to_ix):\n",
    "    idxs = [to_ix[w] for w in seq]\n",
    "    return torch.tensor(idxs, dtype=torch.long)\n",
    "\n",
    "# Pad the sequences\n",
    "pad_token = word_to_ix['<PAD>']  # Assuming <PAD> is added to the word_to_ix dictionary\n",
    "padded_train_sentences = pad_sequence([prepare_sequence(s, word_to_ix) for s in train_sentences], padding_value=pad_token)\n",
    "padded_train_tags = pad_sequence([prepare_sequence(t, tag_to_ix) for t in train_tags], padding_value=tag_to_ix['O'])  # 'O' is typically used for 'Outside' in NER tags\n",
    "\n",
    "# Now padded_train_sentences and padded_train_tags are ready to be used in your model\n"
   ]
  },
  {
   "cell_type": "code",
   "execution_count": null,
   "metadata": {},
   "outputs": [],
   "source": [
    "import torch\n",
    "import torch.nn as nn\n",
    "import torch.optim as optim\n",
    "\n",
    "# Assuming you have processed your data into these variables\n",
    "train_data = # Your processed training data\n",
    "word_to_ix = # Dictionary mapping each word to a unique index\n",
    "tag_to_ix = # Dictionary mapping each tag to a unique index\n",
    "\n",
    "class LSTMTagger(nn.Module):\n",
    "\n",
    "    def __init__(self, embedding_dim, hidden_dim, vocab_size, tagset_size):\n",
    "        super(LSTMTagger, self).__init__()\n",
    "        self.hidden_dim = hidden_dim\n",
    "\n",
    "        self.word_embeddings = nn.Embedding(vocab_size, embedding_dim)\n",
    "        self.lstm = nn.LSTM(embedding_dim, hidden_dim)\n",
    "        self.hidden2tag = nn.Linear(hidden_dim, tagset_size)\n",
    "\n",
    "    def forward(self, sentence):\n",
    "        embeds = self.word_embeddings(sentence)\n",
    "        lstm_out, _ = self.lstm(embeds.view(len(sentence), 1, -1))\n",
    "        tag_space = self.hidden2tag(lstm_out.view(len(sentence), -1))\n",
    "        tag_scores = F.log_softmax(tag_space, dim=1)\n",
    "        return tag_scores\n",
    "\n",
    "# Model instantiation\n",
    "EMBEDDING_DIM = 6\n",
    "HIDDEN_DIM = 6\n",
    "model = LSTMTagger(EMBEDDING_DIM, HIDDEN_DIM, len(word_to_ix), len(tag_to_ix))\n",
    "loss_function = nn.CrossEntropyLoss()\n",
    "optimizer = optim.SGD(model.parameters(), lr=0.1)\n",
    "\n",
    "# Training loop\n",
    "for epoch in range(300):  \n",
    "    for sentence, tags in train_data:\n",
    "        model.zero_grad()\n",
    "\n",
    "        sentence_in = prepare_sequence(sentence, word_to_ix)\n",
    "        targets = prepare_sequence(tags, tag_to_ix)\n",
    "\n",
    "        tag_scores = model(sentence_in)\n",
    "\n",
    "        loss = loss_function(tag_scores, targets)\n",
    "        loss.backward()\n",
    "        optimizer.step()\n"
   ]
  }
 ],
 "metadata": {
  "kernelspec": {
   "display_name": "python38",
   "language": "python",
   "name": "python3"
  },
  "language_info": {
   "codemirror_mode": {
    "name": "ipython",
    "version": 3
   },
   "file_extension": ".py",
   "mimetype": "text/x-python",
   "name": "python",
   "nbconvert_exporter": "python",
   "pygments_lexer": "ipython3",
   "version": "3.8.18"
  }
 },
 "nbformat": 4,
 "nbformat_minor": 2
}
